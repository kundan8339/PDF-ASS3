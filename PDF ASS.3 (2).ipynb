{
 "cells": [
  {
   "cell_type": "code",
   "execution_count": null,
   "id": "9d636fa9-2c2e-47ca-aa2e-9568544e1bbb",
   "metadata": {
    "tags": []
   },
   "outputs": [],
   "source": [
    "Q1: What is Estimation Statistics? Explain point estimate and interval estimate."
   ]
  },
  {
   "cell_type": "markdown",
   "id": "bcdabe45-3bb2-4975-9797-0799fa84aa2b",
   "metadata": {},
   "source": [
    "Estimative Statistics,often referred to as inferential statistics, involes using data from a sample to make inferences or predictions about a population.\n",
    "\n",
    "Point Estimate:A point estimate is a single value that Serves as an approximation of a population parameter.\n",
    "1.Sample Mean(x)\n",
    "2.Sample Proportion(p)\n",
    "Interval estimate=An interval estimate provided a range of value within which the Propulation parameter is expected to lie,along with a certain level of confidence and Margin of Error"
   ]
  },
  {
   "cell_type": "code",
   "execution_count": null,
   "id": "6ddb195f-2a3e-49df-a4f4-61e4c8f4ad7b",
   "metadata": {},
   "outputs": [],
   "source": [
    "Q2. Write a Python function to estimate the population mean using a sample mean and standard\n",
    "deviation."
   ]
  },
  {
   "cell_type": "code",
   "execution_count": 2,
   "id": "aa40dcc9-72b3-4e02-bbc3-010084480b22",
   "metadata": {},
   "outputs": [],
   "source": [
    "import scipy.stats as stats\n",
    "import numpy as np"
   ]
  },
  {
   "cell_type": "code",
   "execution_count": 5,
   "id": "72338288-0033-49cc-991d-d6e69ecc2f36",
   "metadata": {},
   "outputs": [
    {
     "name": "stdout",
     "output_type": "stream",
     "text": [
      "95% confidence interval for the population mean:(93.80830431511593, 106.19169568488407)\n"
     ]
    }
   ],
   "source": [
    "def estimate_population_mean(sample_mean, sample_std, sample_size, confidence_level=0.95):\n",
    "    \"\"\"\n",
    "    Estimate the population mean using the sample mean and standard deviation.\n",
    "    \n",
    "    Parameters:\n",
    "    - sample_mean (float):The mean of the sample.\n",
    "    - sample_std (float): The standard deviation of the sample.\n",
    "    - sample_size (int):The number of observations in the sample.\n",
    "    - confidence_level (float): The desired confidence level for the interval (default is 0.95).\n",
    "    \n",
    "    Returns:\n",
    "    -(float, float): The lower and upper bounds of the confidence interval for the population mean\n",
    "    \"\"\"\n",
    "    \n",
    "    standard_error = sample_std / np.sqrt(sample_size)\n",
    "    \n",
    "    if sample_size < 30:\n",
    "        critical_value = stats.t.ppf((1 + confidence_level) / 2, df=sample_size - 1)\n",
    "    else:\n",
    "        critical_value =stats.norm.ppf((1 + confidence_level) / 2)\n",
    "                                       \n",
    "    margin_of_error =critical_value * standard_error\n",
    "                                       \n",
    "    lower_bond = sample_mean - margin_of_error\n",
    "    uper_bond = sample_mean + margin_of_error\n",
    "    \n",
    "    return lower_bond, uper_bond\n",
    "     \n",
    "                                       \n",
    "sample_mean=100\n",
    "sample_std=15\n",
    "sample_size=25\n",
    "confidence_level =0.95\n",
    "\n",
    "confidence_interval=estimate_population_mean(sample_mean, sample_std, sample_size,confidence_level)\n",
    "print(f\"95% confidence interval for the population mean:{confidence_interval}\")                                       "
   ]
  },
  {
   "cell_type": "code",
   "execution_count": null,
   "id": "2c8c0fec-0144-4a42-a7b4-3388f644f0cf",
   "metadata": {},
   "outputs": [],
   "source": [
    "Q3: What is Hypothesis testing? Why is it used? State the importance of Hypothesis testing."
   ]
  },
  {
   "cell_type": "markdown",
   "id": "732fd12b-af9e-4308-a107-7a397ae5c8ba",
   "metadata": {},
   "source": [
    " Hypothesis testing is a statistical method used to make decisions about a population parameter based on a sample data.\n",
    " Use  Hypothesis testing:\n",
    " make infernces,Evaluate Claims,Guide Decision making\n",
    " Importance:\n",
    " Scientific Research\n",
    " Business Decisions\n",
    " Policy Making\n",
    " Quality Control\n",
    " Medical Studies\n",
    " Risk management\n",
    " "
   ]
  },
  {
   "cell_type": "code",
   "execution_count": null,
   "id": "c065701a-ba9a-4782-a9fb-d33be8de4162",
   "metadata": {},
   "outputs": [],
   "source": [
    "Q4. Create a hypothesis that states whether the average weight of male college students is greater than\n",
    "the average weight of female college students."
   ]
  },
  {
   "cell_type": "code",
   "execution_count": null,
   "id": "8d69e3e4-8e0e-431e-98ab-b2347e99024a",
   "metadata": {},
   "outputs": [],
   "source": [
    "Hypothesis on Average Weight of male and female collage students\n",
    "Null Hypothesis(Ho)=The averge weight of male collage student is equal to the average weight of female collage students.\n",
    "\n",
    "Alternative Hypothesis(H1)\n",
    "The average weight of male collage student is greater than the average weight of female collage students."
   ]
  },
  {
   "cell_type": "code",
   "execution_count": null,
   "id": "9aa3dfe0-cd84-45bc-9eaa-616f9668235d",
   "metadata": {},
   "outputs": [],
   "source": [
    "Q5. Write a Python script to conduct a hypothesis test on the difference between two population means,\n",
    "given a sample from each population."
   ]
  },
  {
   "cell_type": "code",
   "execution_count": 1,
   "id": "01e0f900-540f-47d9-8dbe-6c89ae55d550",
   "metadata": {},
   "outputs": [],
   "source": [
    "import scipy.stats as stats\n",
    "import numpy as np"
   ]
  },
  {
   "cell_type": "code",
   "execution_count": 2,
   "id": "eed44979-4bd0-461a-bc9d-93939d33cb8c",
   "metadata": {},
   "outputs": [
    {
     "name": "stdout",
     "output_type": "stream",
     "text": [
      "T-statistic: -9.248095627061424\n",
      "P-value: 2.932529869206499e-08\n",
      "Reject the null hypothesis: True at the 95.0% confidence level\n"
     ]
    }
   ],
   "source": [
    "def hypothesis_test_two_means(sample1,sample2,alpha=0.05,equal_var=True):\n",
    "    \"\"\"\n",
    "    Conducts a hypothesis test on the difference between two population means.\n",
    "    \n",
    "    Parameters:\n",
    "    sample1 (array-like) : Sample from the first population.\n",
    "    sample2 (array-like) : Sample from the second population.\n",
    "    alpha(float): Significance level for the hypothesis test.\n",
    "    equal_var (bool): If True,perform a t-test assuming equal variance. If False, assume unequal variances.\n",
    "    \n",
    "    Returns:\n",
    "    dict: Results of the hypothesis test containing the t-statistic, p-value, and decision.\n",
    "    \"\"\"\n",
    "    t_stat, p_value=stats.ttest_ind(sample1, sample2, equal_var=equal_var)\n",
    "    reject_null = p_value < alpha\n",
    "    \n",
    "    result ={\n",
    "        \"t_statistic\": t_stat,\n",
    "        \"p_value\": p_value,\n",
    "        \"reject_null\": reject_null,\n",
    "        \"confidence_level\": 1 - alpha\n",
    "    }\n",
    "    \n",
    "    return result\n",
    "if __name__ == \"__main__\" :\n",
    "    \n",
    "    sample1=[23,20,22,21,24,25,22,23,21,22]\n",
    "    sample2=[26,29,27,28,30,27,28,29,27,28]\n",
    "    \n",
    "    results=hypothesis_test_two_means(sample1,sample2)\n",
    "    \n",
    "    print(f\"T-statistic: {results['t_statistic']}\")\n",
    "    print(f\"P-value: {results['p_value']}\")\n",
    "    print(f\"Reject the null hypothesis: {results['reject_null']} at the {results['confidence_level']*100}% confidence level\")\n",
    "    "
   ]
  },
  {
   "cell_type": "code",
   "execution_count": null,
   "id": "92f5b8db-6729-45d6-ae1f-8e6d5decd47f",
   "metadata": {},
   "outputs": [],
   "source": [
    "Q6: What is a null and alternative hypothesis? Give some examples."
   ]
  },
  {
   "cell_type": "markdown",
   "id": "f1be7716-c99f-4aec-8d4b-29780ecaac91",
   "metadata": {},
   "source": [
    "The null hypothesis represent the status quo or the default assumption that there is no effect\n",
    "or no difference.\n",
    "Alternative Hypothesis(H1 OR Ha)= The alternative hypothesis is the statement that we aim to provide evidence.\n",
    "ex=comparing two group's \n",
    "coin's fairness:"
   ]
  },
  {
   "cell_type": "code",
   "execution_count": null,
   "id": "3b8d973f-254f-481b-b221-2fd16e971b0e",
   "metadata": {},
   "outputs": [],
   "source": [
    "Q7: Write down the steps involved in hypothesis testing."
   ]
  },
  {
   "cell_type": "markdown",
   "id": "4d1c24b0-1f9b-4fad-8fd6-f5d00c22986f",
   "metadata": {},
   "source": [
    "1. Null hypothesis\n",
    "2. Alternative hypothesis\n",
    "3. Choose the Significance level:\n",
    "4. Select the Appropriate Test Statistic\n",
    "5. Determine the Distribution of the Test Staticstic\n",
    "6. Calculate the test statistic and P-value\n",
    "7. make decision\n",
    "8. draw a Conclusion\n",
    "9. Report the result"
   ]
  },
  {
   "cell_type": "code",
   "execution_count": null,
   "id": "37eaf374-ea7d-46c8-bb3d-11559e3c23e3",
   "metadata": {},
   "outputs": [],
   "source": [
    "Q8. Define p-value and explain its significance in hypothesis testing."
   ]
  },
  {
   "cell_type": "markdown",
   "id": "8ab4ccee-26ec-4029-869a-720bb8bd1f70",
   "metadata": {},
   "source": [
    "p-value in hypothesis testing the p-value is the probability of obtaining a result equal to\n",
    "\n",
    "significance in Hypothesis\n",
    "1. Evidence Against the Null Hypothesis=low p-value,high p-value\n",
    "2. Threshold for Decision\n",
    "3. interpreting Results\n",
    "4. practial Implications\n"
   ]
  },
  {
   "cell_type": "code",
   "execution_count": null,
   "id": "8273414e-4c12-4dfb-b1e3-1445e84eb4b9",
   "metadata": {},
   "outputs": [],
   "source": [
    "Q9. Generate a Student's t-distribution plot using Python's matplotlib library, with the degrees of freedom\n",
    "parameter set to 10."
   ]
  },
  {
   "cell_type": "code",
   "execution_count": 3,
   "id": "7fe6470f-132f-433a-8603-cc388555a314",
   "metadata": {},
   "outputs": [],
   "source": [
    "import numpy as np \n",
    "import matplotlib.pyplot as plt \n",
    "import scipy. stats as stats"
   ]
  },
  {
   "cell_type": "code",
   "execution_count": 4,
   "id": "4981c940-896a-4a19-b639-7e41ac4db32c",
   "metadata": {},
   "outputs": [
    {
     "data": {
      "image/png": "[encoded data removed]",
      "text/plain": [
       "<Figure size 1000x600 with 1 Axes>"
      ]
     },
     "metadata": {},
     "output_type": "display_data"
    }
   ],
   "source": [
    "df = 10 # degree of freedom\n",
    "x=np.linspace(-5,5,1000)\n",
    "t_dist = stats.t.pdf(x,df)\n",
    "plt.figure(figsize=(10,6))\n",
    "plt.plot(x, t_dist, label=f\"t-distribution (df={df})\",color='blue')\n",
    "plt.title(\"Student's t-Distribution (df=10)\")\n",
    "plt.xlabel('x')\n",
    "plt.ylabel('Probability Density')\n",
    "plt.legend()\n",
    "plt.grid(True)\n",
    "plt.show()"
   ]
  },
  {
   "cell_type": "code",
   "execution_count": null,
   "id": "5534c7d7-3ba4-45eb-8497-51574118769c",
   "metadata": {},
   "outputs": [],
   "source": [
    "Q10. Write a Python program to calculate the two-sample t-test for independent samples, given two\n",
    "random samples of equal size and a null hypothesis that the population means are equal."
   ]
  },
  {
   "cell_type": "code",
   "execution_count": 5,
   "id": "7c6c6a6f-4448-40cb-9db3-3fc67978b19b",
   "metadata": {},
   "outputs": [],
   "source": [
    "import numpy as np\n",
    "from scipy import stats"
   ]
  },
  {
   "cell_type": "code",
   "execution_count": 1,
   "id": "09ccb7ab-8d0a-4cfa-90fd-8cab8b83e2cb",
   "metadata": {},
   "outputs": [],
   "source": [
    "import numpy as np\n",
    "from scipy import stats"
   ]
  },
  {
   "cell_type": "code",
   "execution_count": 2,
   "id": "c67f2743-d893-4e3c-a28c-6627f5e52be8",
   "metadata": {},
   "outputs": [
    {
     "name": "stdout",
     "output_type": "stream",
     "text": [
      "T-statistic: -9.248095627061424\n",
      "P-value: 2.932529869206499e-08\n",
      "Reject the null hypothesis: True at the 95.0% confidence level\n"
     ]
    }
   ],
   "source": [
    "def hypothesis_test_two_means(sample1,sample2,alpha=0.05,equal_var=True):\n",
    "    \"\"\"\n",
    "    Conducts a hypothesis test on the difference between two population means.\n",
    "    \n",
    "    Parameters:\n",
    "    sample1 (array-like) : Sample from the first population.\n",
    "    sample2 (array-like) : Sample from the second population.\n",
    "    alpha(float): Significance level for the hypothesis test.\n",
    "    equal_var (bool): If True,perform a t-test assuming equal variance. If False, assume unequal variances.\n",
    "    \n",
    "    Returns:\n",
    "    dict: Results of the hypothesis test containing the t-statistic, p-value, and decision.\n",
    "    \"\"\"\n",
    "    t_stat, p_value=stats.ttest_ind(sample1, sample2, equal_var=equal_var)\n",
    "    reject_null = p_value < alpha\n",
    "    \n",
    "    result ={\n",
    "        \"t_statistic\": t_stat,\n",
    "        \"p_value\": p_value,\n",
    "        \"reject_null\": reject_null,\n",
    "        \"confidence_level\": 1 - alpha\n",
    "    }\n",
    "    \n",
    "    return result\n",
    "if __name__ == \"__main__\" :\n",
    "    \n",
    "    sample1=[23,20,22,21,24,25,22,23,21,22]\n",
    "    sample2=[26,29,27,28,30,27,28,29,27,28]\n",
    "    \n",
    "    results=hypothesis_test_two_means(sample1,sample2)\n",
    "    \n",
    "    print(f\"T-statistic: {results['t_statistic']}\")\n",
    "    print(f\"P-value: {results['p_value']}\")\n",
    "    print(f\"Reject the null hypothesis: {results['reject_null']} at the {results['confidence_level']*100}% confidence level\")\n",
    "    "
   ]
  },
  {
   "cell_type": "code",
   "execution_count": null,
   "id": "fdf3a98b-8e7f-48d9-8e34-e1acd0b372d5",
   "metadata": {},
   "outputs": [],
   "source": [
    "Q11: What is Student’s t distribution? When to use the t-Distribution."
   ]
  },
  {
   "cell_type": "markdown",
   "id": "b38072a3-5d22-4df4-bd13-c8167054b5b7",
   "metadata": {},
   "source": [
    "student distribution ,commonly referred to as the t-distribution.\n",
    "When to use the t-Distribution:\n",
    "1.Small sample size\n",
    "2.Unknow population Standard Deviation\n",
    "3.Confidence intervals\n",
    "4.Hypothesis Testing"
   ]
  },
  {
   "cell_type": "code",
   "execution_count": null,
   "id": "91cad106-999c-469d-8da6-4d70227b1fa9",
   "metadata": {},
   "outputs": [],
   "source": [
    "Q12: What is t-statistic? State the formula for t-statistic."
   ]
  },
  {
   "cell_type": "markdown",
   "id": "74c8ca82-d209-41ce-a6ae-449a776fb478",
   "metadata": {},
   "source": [
    "The t-statistic is measure used in hypothesis testing to determine whether there is signification difference btw the means of two groups.\n",
    "formula:\n",
    "1.single sample t-test\n",
    "2. independent two sample t-test\n",
    "3.paired sample t-test"
   ]
  },
  {
   "cell_type": "markdown",
   "id": "def7c6d6-611d-414b-ba7a-b257da11e64c",
   "metadata": {},
   "source": [
    "Q13. A coffee shop owner wants to estimate the average daily revenue for their shop. They take a random\n",
    "sample of 50 days and find the sample mean revenue to be $500 with a standard deviation of $50.\n",
    "Estimate the population mean revenue with a 95% confidence interval."
   ]
  },
  {
   "cell_type": "code",
   "execution_count": null,
   "id": "b14a8e43-0e6b-4adb-a950-d22aa25fe46d",
   "metadata": {},
   "outputs": [],
   "source": [
    "x=$500\n",
    "n=50\n",
    "sigma=50\n",
    "CI=500=-13.86\n",
    "(500-13.86,500+13.86)   \n",
    "(486.14,513.86)"
   ]
  },
  {
   "cell_type": "code",
   "execution_count": null,
   "id": "ec8190ef-e35f-4c67-86d4-fe24cb55b68c",
   "metadata": {},
   "outputs": [],
   "source": [
    "Q14. A researcher hypothesizes that a new drug will decrease blood pressure by 10 mmHg. They conduct a\n",
    "clinical trial with 100 patients and find that the sample mean decrease in blood pressure is 8 mmHg with a\n",
    "standard deviation of 3 mmHg. Test the hypothesis with a significance level of 0.05."
   ]
  },
  {
   "cell_type": "code",
   "execution_count": 3,
   "id": "2aac3754-bdc1-4618-a9b4-b25042e4cebb",
   "metadata": {},
   "outputs": [],
   "source": [
    "from scipy.stats import t\n"
   ]
  },
  {
   "cell_type": "code",
   "execution_count": 4,
   "id": "1328b296-1799-4ed4-99ce-df185d2bbdf4",
   "metadata": {},
   "outputs": [
    {
     "data": {
      "text/plain": [
       "(6.666666666666667, 1.9842169515086827)"
      ]
     },
     "execution_count": 4,
     "metadata": {},
     "output_type": "execute_result"
    }
   ],
   "source": [
    "sample_mean=12\n",
    "hypothesized_mean=10\n",
    "sample_std=3\n",
    "sample_size=100\n",
    "t_statistic=(sample_mean - hypothesized_mean)/(sample_std / (sample_size**0.5))\n",
    "df=sample_size - 1\n",
    "alpha=0.05\n",
    "critical_t_value=t.ppf(1-alpha/2,df)\n",
    "t_statistic,critical_t_value"
   ]
  },
  {
   "cell_type": "code",
   "execution_count": null,
   "id": "e4cec4d0-1520-4b77-bcd2-a34d4f098b94",
   "metadata": {},
   "outputs": [],
   "source": [
    "Q15. An electronics company produces a certain type of product with a mean weight of 5 pounds and a\n",
    "standard deviation of 0.5 pounds. A random sample of 25 products is taken, and the sample mean weight\n",
    "is found to be 4.8 pounds. Test the hypothesis that the true mean weight of the products is less than 5\n",
    "pounds with a significance level of 0.01."
   ]
  },
  {
   "cell_type": "code",
   "execution_count": null,
   "id": "b09492d9-2625-4da1-9375-39b4c45f1590",
   "metadata": {},
   "outputs": [],
   "source": []
  },
  {
   "cell_type": "code",
   "execution_count": null,
   "id": "98f8cac0-11a5-48d3-9ff9-613ff551b62e",
   "metadata": {},
   "outputs": [],
   "source": [
    "Q16. Two groups of students are given different study materials to prepare for a test. The first group (n1 =\n",
    "30) has a mean score of 80 with a standard deviation of 10, and the second group (n2 = 40) has a mean\n",
    "score of 75 with a standard deviation of 8. Test the hypothesis that the population means for the two\n",
    "groups are equal with a significance level of 0.01."
   ]
  },
  {
   "cell_type": "markdown",
   "id": "64afe2f4-ea5c-42a4-9308-be69abce135e",
   "metadata": {},
   "source": [
    "Group 1: n1=30, x1=80 , s1=10\n",
    "Group 2: n2=40, x2=75 , s2=8\n",
    "significance=0.01\n",
    "calculated the pooled standard deviation(sp)\n",
    "0.01 and df\n",
    "df=30+40-2=68"
   ]
  },
  {
   "cell_type": "code",
   "execution_count": null,
   "id": "0978cf02-8758-4667-95a2-eb5065de40ee",
   "metadata": {},
   "outputs": [],
   "source": [
    "Q17. A marketing company wants to estimate the average number of ads watched by viewers during a TV\n",
    "program. They take a random sample of 50 viewers and find that the sample mean is 4 with a standard\n",
    "deviation of 1.5. Estimate the population mean with a 99% confidence interval.\n"
   ]
  },
  {
   "cell_type": "markdown",
   "id": "e961b307-9498-42c4-871b-1bc897ade581",
   "metadata": {},
   "source": [
    "x=4\n",
    "s=1.5\n",
    "n=50\n",
    "Confidence level = 99%,for which the z-value is approximately 2.576\n",
    "margin error=.212\n",
    "\n",
    "2.567*.212=.545\n",
    "(4-0.546,4+.546)\n",
    "(3.454,4.546)"
   ]
  },
  {
   "cell_type": "code",
   "execution_count": null,
   "id": "d92f6c36-9379-4895-931b-01ff13cc12f6",
   "metadata": {},
   "outputs": [],
   "source": []
  },
  {
   "cell_type": "code",
   "execution_count": null,
   "id": "5571bffc-7395-4da2-a94e-8898b2994deb",
   "metadata": {},
   "outputs": [],
   "source": []
  },
  {
   "cell_type": "code",
   "execution_count": null,
   "id": "61fa1f0f-8f74-4a4d-b696-2e246add116d",
   "metadata": {},
   "outputs": [],
   "source": []
  },
  {
   "cell_type": "code",
   "execution_count": null,
   "id": "b4100a89-fca2-4568-9136-428aed6c5ea9",
   "metadata": {},
   "outputs": [],
   "source": []
  },
  {
   "cell_type": "code",
   "execution_count": null,
   "id": "002637b4-ea5c-482f-8a89-a83dc4f41a56",
   "metadata": {},
   "outputs": [],
   "source": []
  },
  {
   "cell_type": "code",
   "execution_count": null,
   "id": "dc20206b-1089-4d7c-aff2-eeffc6a2299b",
   "metadata": {},
   "outputs": [],
   "source": []
  },
  {
   "cell_type": "code",
   "execution_count": null,
   "id": "afde67d9-4bbf-4294-b416-0e0d15e40b7d",
   "metadata": {},
   "outputs": [],
   "source": []
  },
  {
   "cell_type": "code",
   "execution_count": null,
   "id": "ad5df14d-41c9-4214-8a3e-df0c8a07bf7f",
   "metadata": {},
   "outputs": [],
   "source": []
  },
  {
   "cell_type": "code",
   "execution_count": null,
   "id": "fb02b47c-a6e5-4801-943e-d8482966f077",
   "metadata": {},
   "outputs": [],
   "source": []
  },
  {
   "cell_type": "code",
   "execution_count": null,
   "id": "9e7238fe-e030-4973-8269-8c064f5812e2",
   "metadata": {},
   "outputs": [],
   "source": []
  },
  {
   "cell_type": "code",
   "execution_count": null,
   "id": "115d8de5-13fc-4e03-9e44-41647c5d55d7",
   "metadata": {},
   "outputs": [],
   "source": []
  },
  {
   "cell_type": "code",
   "execution_count": null,
   "id": "3ead273e-1359-467c-806e-be149b7af674",
   "metadata": {},
   "outputs": [],
   "source": []
  },
  {
   "cell_type": "code",
   "execution_count": null,
   "id": "b7a2bcd2-00a8-4fa0-8add-628bc123f343",
   "metadata": {},
   "outputs": [],
   "source": []
  },
  {
   "cell_type": "code",
   "execution_count": null,
   "id": "de562102-3b06-4393-82a6-10bc29564984",
   "metadata": {},
   "outputs": [],
   "source": []
  },
  {
   "cell_type": "code",
   "execution_count": null,
   "id": "5c1bf840-190b-48c8-b2ed-5dcc63a3d934",
   "metadata": {},
   "outputs": [],
   "source": []
  },
  {
   "cell_type": "code",
   "execution_count": null,
   "id": "bc130348-4f05-458f-8fc7-a523c99579f7",
   "metadata": {},
   "outputs": [],
   "source": []
  },
  {
   "cell_type": "code",
   "execution_count": null,
   "id": "a72bea61-ec7f-48a3-b983-c34420e2de50",
   "metadata": {},
   "outputs": [],
   "source": []
  },
  {
   "cell_type": "code",
   "execution_count": null,
   "id": "ce0fb0bf-8314-46d0-9135-9bd8c1afe28e",
   "metadata": {},
   "outputs": [],
   "source": []
  },
  {
   "cell_type": "code",
   "execution_count": null,
   "id": "5d897de4-aee3-4ab9-b5de-1d99a241d797",
   "metadata": {},
   "outputs": [],
   "source": []
  },
  {
   "cell_type": "code",
   "execution_count": null,
   "id": "5348a786-2a3c-4222-b88f-80de517569ac",
   "metadata": {},
   "outputs": [],
   "source": []
  },
  {
   "cell_type": "code",
   "execution_count": null,
   "id": "d98be37c-e0d4-4678-bc8d-89fbc470c728",
   "metadata": {},
   "outputs": [],
   "source": []
  },
  {
   "cell_type": "code",
   "execution_count": null,
   "id": "9c4d9a2d-97a6-4a3c-a93a-356293d6ab25",
   "metadata": {},
   "outputs": [],
   "source": []
  },
  {
   "cell_type": "code",
   "execution_count": null,
   "id": "144abf8a-0cc3-4366-b033-ea37aaf0c37d",
   "metadata": {},
   "outputs": [],
   "source": []
  },
  {
   "cell_type": "code",
   "execution_count": null,
   "id": "f6cc0872-7922-46fd-b56a-a576ad84588c",
   "metadata": {},
   "outputs": [],
   "source": []
  },
  {
   "cell_type": "code",
   "execution_count": null,
   "id": "07954025-a075-4732-86cb-486d99780e68",
   "metadata": {},
   "outputs": [],
   "source": []
  },
  {
   "cell_type": "code",
   "execution_count": null,
   "id": "440e020f-0146-46ad-99ee-919bdc726bc9",
   "metadata": {},
   "outputs": [],
   "source": []
  },
  {
   "cell_type": "code",
   "execution_count": null,
   "id": "c010d013-6598-41f5-8ded-80e8fd874b42",
   "metadata": {},
   "outputs": [],
   "source": []
  },
  {
   "cell_type": "code",
   "execution_count": null,
   "id": "5e589088-8dcf-4188-be1f-4a2332ac8b6a",
   "metadata": {},
   "outputs": [],
   "source": []
  },
  {
   "cell_type": "code",
   "execution_count": null,
   "id": "178e831d-a00a-49cf-8e77-005cddb37b94",
   "metadata": {},
   "outputs": [],
   "source": []
  },
  {
   "cell_type": "code",
   "execution_count": null,
   "id": "7f361d1b-d73b-46a6-812e-b03e5b14186e",
   "metadata": {},
   "outputs": [],
   "source": []
  },
  {
   "cell_type": "code",
   "execution_count": null,
   "id": "c94b0676-825f-4651-927e-fdec95985000",
   "metadata": {},
   "outputs": [],
   "source": []
  }
 ],
 "metadata": {
  "kernelspec": {
   "display_name": "Python 3 (ipykernel)",
   "language": "python",
   "name": "python3"
  },
  "language_info": {
   "codemirror_mode": {
    "name": "ipython",
    "version": 3
   },
   "file_extension": ".py",
   "mimetype": "text/x-python",
   "name": "python",
   "nbconvert_exporter": "python",
   "pygments_lexer": "ipython3",
   "version": "3.10.8"
  }
 },
 "nbformat": 4,
 "nbformat_minor": 5
}
